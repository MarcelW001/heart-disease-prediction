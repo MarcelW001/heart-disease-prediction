{
 "cells": [
  {
   "cell_type": "code",
   "execution_count": 30,
   "id": "084ca11c-a0ce-4a84-959b-25ca0a55d184",
   "metadata": {},
   "outputs": [],
   "source": [
    "import pandas as pd\n",
    "import numpy as np\n",
    "import torch\n",
    "import torch.nn as nn\n",
    "\n"
   ]
  },
  {
   "cell_type": "code",
   "execution_count": 32,
   "id": "77b5fc7b-76ea-4ed9-8440-374e2e857484",
   "metadata": {},
   "outputs": [],
   "source": [
    "heartdis = pd.read_csv(\"heart_disease_uci.csv\")\n",
    "heartdis = heartdis.drop(columns=[\"id\", \"dataset\", \"ca\"]) # Removed unimportant data. \n",
    "heartdis[\"num\"] = (heartdis[\"num\"] > 0).astype(int) # To increase prediction probabiliy 0 no heart disease and 1 has some level of heart disease \n",
    "\n"
   ]
  },
  {
   "cell_type": "code",
   "execution_count": 34,
   "id": "1a872735-5eef-40c0-9ee1-173493e5c2f8",
   "metadata": {},
   "outputs": [],
   "source": [
    "string_data = heartdis.select_dtypes(include=[\"object\"]).columns.tolist()\n",
    "numerical_data = heartdis.select_dtypes(include=[\"float64\", \"int64\"]).columns.tolist()\n",
    "heartdis = pd.get_dummies(heartdis, columns=string_data) \n",
    "\n"
   ]
  },
  {
   "cell_type": "code",
   "execution_count": 36,
   "id": "6e4c6b96-5940-4227-8ba6-bdfa1d7c924d",
   "metadata": {},
   "outputs": [],
   "source": [
    "# Normalize numerical features since string_data is discrete data no need to normalize the data this is because it either has 100% prob or 0 % prob. \n",
    "mean = heartdis[numerical_data].mean()\n",
    "std = heartdis[numerical_data].std()\n",
    "heartdis[numerical_data] = (heartdis[numerical_data] - mean) / std\n",
    "\n"
   ]
  },
  {
   "cell_type": "code",
   "execution_count": 38,
   "id": "9c51c4af-85f2-4153-b8a3-b3a1fe6f10cf",
   "metadata": {},
   "outputs": [],
   "source": [
    "heartdis = heartdis.fillna(0) # need to replace the Nan data that still exsists in the numerical_data \n",
    "\n"
   ]
  },
  {
   "cell_type": "code",
   "execution_count": 40,
   "id": "5d221ab9-ce34-4ab1-a28f-c3ec00df52ce",
   "metadata": {},
   "outputs": [],
   "source": [
    "target_y = heartdis[\"num\"].astype(np.float32).values\n",
    "X = heartdis.drop(columns=[\"num\"]).values.astype(np.float32)\n",
    "\n"
   ]
  },
  {
   "cell_type": "code",
   "execution_count": 42,
   "id": "25e8a99e-d3de-48db-a658-86afeaa40400",
   "metadata": {},
   "outputs": [],
   "source": [
    "X_tensor = torch.tensor(X, dtype=torch.float32)\n",
    "Y_tensor = torch.tensor(target_y, dtype=torch.float32).unsqueeze(1)\n",
    "\n"
   ]
  },
  {
   "cell_type": "code",
   "execution_count": 44,
   "id": "7292d665-dd82-470f-9f2f-ff56646e012e",
   "metadata": {},
   "outputs": [],
   "source": [
    "torch.manual_seed(1234)\n",
    "\n",
    "input_dim = X_tensor.shape[1]\n",
    "hidden_neurons = 16\n",
    "output_dim = 1 # Output is only one dimention becuase either 0 or 1 \n",
    "\n",
    "# Initialize weights and biases for hidden and output layer\n",
    "W1 = torch.randn(input_dim, hidden_neurons, dtype=torch.float32, requires_grad=True)\n",
    "b1 = torch.zeros(hidden_neurons, dtype=torch.float32, requires_grad=True)\n",
    "\n",
    "W2 = torch.randn(hidden_neurons, output_dim, dtype=torch.float32, requires_grad=True)\n",
    "b2 = torch.zeros(output_dim, dtype=torch.float32, requires_grad=True)\n",
    "\n",
    "\n"
   ]
  },
  {
   "cell_type": "code",
   "execution_count": 46,
   "id": "5250bda8-81f5-49ba-a43d-c048e3540c8d",
   "metadata": {},
   "outputs": [],
   "source": [
    "class MLP:\n",
    "    def __init__(self, input_dim, hidden_dim, output_dim):\n",
    "        # Initialize weights and biases\n",
    "        self.W1 = torch.randn(input_dim, hidden_dim, dtype=torch.float32, requires_grad=True)\n",
    "        self.b1 = torch.zeros(hidden_dim, dtype=torch.float32, requires_grad=True)\n",
    "\n",
    "        self.W2 = torch.randn(hidden_dim, output_dim, dtype=torch.float32, requires_grad=True)\n",
    "        self.b2 = torch.zeros(output_dim, dtype=torch.float32, requires_grad=True)\n",
    "\n",
    "    def tanh(self, x):\n",
    "        return torch.tanh(x)\n",
    "\n",
    "    def sigmoid(self, x):\n",
    "        return 1 / (1 + torch.exp(-x))\n",
    "\n",
    "    def binary_cross_entropy(self, y_pred, y_true):\n",
    "        eps = 1e-7\n",
    "        y_pred = torch.clamp(y_pred, eps, 1 - eps)\n",
    "        return - (y_true * torch.log(y_pred) + (1 - y_true) * torch.log(1 - y_pred)).mean()\n",
    "\n",
    "    def forward(self, x):\n",
    "        z1 = x @ self.W1 + self.b1\n",
    "        a1 = self.tanh(z1)\n",
    "        z2 = a1 @ self.W2 + self.b2\n",
    "        y_pred = self.sigmoid(z2)\n",
    "        return y_pred\n",
    "\n",
    "    def parameters(self):\n",
    "        return [self.W1, self.b1, self.W2, self.b2]\n",
    "\n",
    "    def zero_grad(self):\n",
    "        for param in self.parameters():\n",
    "            if param.grad is not None:\n",
    "                param.grad.zero_()\n"
   ]
  },
  {
   "cell_type": "code",
   "execution_count": 56,
   "id": "bd92ac73-08d8-4763-8698-3e1f8f22ca98",
   "metadata": {},
   "outputs": [
    {
     "name": "stdout",
     "output_type": "stream",
     "text": [
      "Epoch 0, Loss: 1.2965\n",
      "Epoch 100, Loss: 0.9436\n",
      "Epoch 200, Loss: 0.7670\n",
      "Epoch 300, Loss: 0.6646\n",
      "Epoch 400, Loss: 0.5992\n",
      "Epoch 500, Loss: 0.5552\n",
      "Epoch 600, Loss: 0.5246\n",
      "Epoch 700, Loss: 0.5030\n",
      "Epoch 800, Loss: 0.4871\n",
      "Epoch 900, Loss: 0.4753\n"
     ]
    }
   ],
   "source": [
    "model = MLP(input_dim=X_tensor.shape[1], hidden_dim=16, output_dim=1)\n",
    "learning_rate = 0.01\n",
    "epochs = 1000\n",
    "\n",
    "for epoch in range(epochs):\n",
    "    # Forward pass\n",
    "    y_pred = model.forward(X_tensor)\n",
    "    loss = model.binary_cross_entropy(y_pred, Y_tensor)\n",
    "\n",
    "    # Backward\n",
    "    loss.backward()\n",
    "\n",
    "    # Update\n",
    "    with torch.no_grad():\n",
    "        for param in model.parameters():\n",
    "            param -= learning_rate * param.grad\n",
    "\n",
    "    model.zero_grad()\n",
    "\n",
    "    if epoch % 100 == 0:\n",
    "        print(f\"Epoch {epoch}, Loss: {loss.item():.4f}\")\n"
   ]
  },
  {
   "cell_type": "code",
   "execution_count": 60,
   "id": "59585ba0-ffac-4e34-a396-69d2155101c0",
   "metadata": {},
   "outputs": [
    {
     "name": "stdout",
     "output_type": "stream",
     "text": [
      "Final Training Accuracy: 0.7913\n"
     ]
    }
   ],
   "source": [
    "with torch.no_grad():\n",
    "    y_pred = model.forward(X_tensor)\n",
    "    predictions = (y_pred > 0.5).float()  # Convert probabilities to 0 or 1\n",
    "    correct = (predictions == Y_tensor).float().sum()\n",
    "    accuracy = correct / Y_tensor.shape[0]\n",
    "    print(f\"Final Training Accuracy: {accuracy:.4f}\")\n"
   ]
  },
  {
   "cell_type": "code",
   "execution_count": 52,
   "id": "479e778e-c706-4f24-ae48-0ce6e961f009",
   "metadata": {},
   "outputs": [
    {
     "name": "stdout",
     "output_type": "stream",
     "text": [
      "Predicted probability: 0.7042\n"
     ]
    }
   ],
   "source": [
    "with torch.no_grad():\n",
    "    y_sample_pred = model.forward(X_tensor[0].unsqueeze(0))\n",
    "    print(f\"Predicted probability: {y_sample_pred.item():.4f}\")\n"
   ]
  },
  {
   "cell_type": "code",
   "execution_count": null,
   "id": "fbd51332-8454-4610-b89c-5028a4bdb89f",
   "metadata": {},
   "outputs": [],
   "source": []
  },
  {
   "cell_type": "code",
   "execution_count": null,
   "id": "ad52fab9-2838-476a-a54b-4f3e6a83415e",
   "metadata": {},
   "outputs": [],
   "source": []
  }
 ],
 "metadata": {
  "kernelspec": {
   "display_name": "Python [conda env:base] *",
   "language": "python",
   "name": "conda-base-py"
  },
  "language_info": {
   "codemirror_mode": {
    "name": "ipython",
    "version": 3
   },
   "file_extension": ".py",
   "mimetype": "text/x-python",
   "name": "python",
   "nbconvert_exporter": "python",
   "pygments_lexer": "ipython3",
   "version": "3.11.4"
  }
 },
 "nbformat": 4,
 "nbformat_minor": 5
}
